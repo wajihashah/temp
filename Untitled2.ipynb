{
  "nbformat": 4,
  "nbformat_minor": 0,
  "metadata": {
    "colab": {
      "provenance": [],
      "authorship_tag": "ABX9TyPdDP7q3f9+16H/qygp5umV",
      "include_colab_link": true
    },
    "kernelspec": {
      "name": "python3",
      "display_name": "Python 3"
    },
    "language_info": {
      "name": "python"
    }
  },
  "cells": [
    {
      "cell_type": "markdown",
      "metadata": {
        "id": "view-in-github",
        "colab_type": "text"
      },
      "source": [
        "<a href=\"https://colab.research.google.com/github/wajihashah/temp/blob/main/Untitled2.ipynb\" target=\"_parent\"><img src=\"https://colab.research.google.com/assets/colab-badge.svg\" alt=\"Open In Colab\"/></a>"
      ]
    },
    {
      "cell_type": "code",
      "execution_count": 1,
      "metadata": {
        "colab": {
          "base_uri": "https://localhost:8080/",
          "height": 106
        },
        "id": "QWr8EW4AKK_G",
        "outputId": "b7dfbf4e-1afb-4e01-9dc2-6a01f90b6b9a"
      },
      "outputs": [
        {
          "output_type": "error",
          "ename": "SyntaxError",
          "evalue": "expected ':' (<ipython-input-1-0825ae513867>, line 39)",
          "traceback": [
            "\u001b[0;36m  File \u001b[0;32m\"<ipython-input-1-0825ae513867>\"\u001b[0;36m, line \u001b[0;32m39\u001b[0m\n\u001b[0;31m    elif choice == 3\u001b[0m\n\u001b[0m                    ^\u001b[0m\n\u001b[0;31mSyntaxError\u001b[0m\u001b[0;31m:\u001b[0m expected ':'\n"
          ]
        }
      ],
      "source": [
        "def celsius_to_fahrenheit(celsius):\n",
        "    return (celsius * 9/5) + 32\n",
        "\n",
        "def fahrenheit_to_celsius(fahrenheit):\n",
        "    return (fahrenheit - 32) * 5/9\n",
        "\n",
        "def celsius_to_kelvin(celsius):\n",
        "    return celsius + 273.15\n",
        "\n",
        "def kelvin_to_celsius(kelvin):\n",
        "    return kelvin - 273.15\n",
        "\n",
        "def fahrenheit_to_kelvin(fahrenheit):\n",
        "    celsius = fahrenheit_to_celsius(fahrenheit)\n",
        "    return celsius_to_kelvin(celsius)\n",
        "\n",
        "def kelvin_to_fahrenheit(kelvin):\n",
        "    celsius = kelvin_to_celsius(kelvin)\n",
        "    return celsius_to_fahrenheit(celsius)\n",
        "\n",
        "# Main program\n",
        "print(\"Temperature Conversion Program\")\n",
        "print(\"Choose the conversion you want to perform:\")\n",
        "print(\"1. Celsius to Fahrenheit\")\n",
        "print(\"2. Fahrenheit to Celsius\")\n",
        "print(\"3. Celsius to Kelvin\")\n",
        "print(\"4. Kelvin to Celsius\")\n",
        "print(\"5. Fahrenheit to Kelvin\")\n",
        "print(\"6. Kelvin to Fahrenheit\")\n",
        "\n",
        "choice = int(input(\"Enter your choice (1-6): \"))\n",
        "\n",
        "if choice == 1:\n",
        "    celsius = float(input(\"Enter temperature in Celsius: \"))\n",
        "    print(f\"{celsius}°C is equal to {celsius_to_fahrenheit(celsius)}°F\")\n",
        "elif choice == 2:\n",
        "    fahrenheit = float(input(\"Enter temperature in Fahrenheit: \"))\n",
        "    print(f\"{fahrenheit}°F is equal to {fahrenheit_to_celsius(fahrenheit)}°C\")\n",
        "elif choice == 3\n"
      ]
    },
    {
      "cell_type": "code",
      "source": [
        "def celsius_to_fahrenheit(celsius):\n",
        "    return (celsius * 9/5) + 32\n",
        "\n",
        "def fahrenheit_to_celsius(fahrenheit):\n",
        "    return (fahrenheit - 32) * 5/9\n",
        "\n",
        "def celsius_to_kelvin(celsius):\n",
        "    return celsius + 273.15\n",
        "\n",
        "def kelvin_to_celsius(kelvin):\n",
        "    return kelvin - 273.15\n",
        "\n",
        "def fahrenheit_to_kelvin(fahrenheit):\n",
        "    celsius = fahrenheit_to_celsius(fahrenheit)\n",
        "    return celsius_to_kelvin(celsius)\n",
        "\n",
        "def kelvin_to_fahrenheit(kelvin):\n",
        "    celsius = kelvin_to_celsius(kelvin)\n",
        "    return celsius_to_fahrenheit(celsius)\n",
        "\n",
        "# Main program\n",
        "print(\"Temperature Conversion Program\")\n",
        "print(\"Choose the conversion you want to perform:\")\n",
        "print(\"1. Celsius to Fahrenheit\")\n",
        "print(\"2. Fahrenheit to Celsius\")\n",
        "print(\"3. Celsius to Kelvin\")\n",
        "print(\"4. Kelvin to Celsius\")\n",
        "print(\"5. Fahrenheit to Kelvin\")\n",
        "print(\"6. Kelvin to Fahrenheit\")\n",
        "\n",
        "choice = int(input(\"Enter your choice (1-6): \"))\n",
        "\n",
        "if choice == 1:\n",
        "    celsius = float(input(\"Enter temperature in Celsius: \"))\n",
        "    print(f\"{celsius}°C is equal to {celsius_to_fahrenheit(celsius)}°F\")\n",
        "elif choice == 2:\n",
        "    fahrenheit = float(input(\"Enter temperature in Fahrenheit: \"))\n",
        "    print(f\"{fahrenheit}°F is equal to {fahrenheit_to_celsius(fahrenheit)}°C\")\n",
        "elif choice == 3:\n",
        "    celsius = float(input(\"Enter temperature in Celsius: \"))\n",
        "    print(f\"{celsius}°C is equal to {celsius_to_kelvin(celsius)} K\")\n",
        "elif choice == 4:\n",
        "    kelvin = float(input(\"Enter temperature in Kelvin: \"))\n",
        "    print(f\"{kelvin} K is equal to {kelvin_to_celsius(kelvin)}°C\")\n",
        "elif choice == 5:\n",
        "    fahrenheit = float(input(\"Enter temperature in Fahrenheit: \"))\n",
        "    print(f\"{fahrenheit}°F is equal to {fahrenheit_to_kelvin(fahrenheit)} K\")\n",
        "elif choice == 6:\n",
        "    kelvin = float(input(\"Enter temperature in Kelvin: \"))\n",
        "    print(f\"{kelvin} K is equal to {kelvin_to_fahrenheit(kelvin)}°F\")\n",
        "else:\n",
        "    print(\"Invalid choice! Please enter a number between 1 and 6.\")\n"
      ],
      "metadata": {
        "colab": {
          "base_uri": "https://localhost:8080/"
        },
        "id": "E_rC4pkQKgsb",
        "outputId": "016b4b2c-39e9-402d-8801-8dd424a8b099"
      },
      "execution_count": 2,
      "outputs": [
        {
          "output_type": "stream",
          "name": "stdout",
          "text": [
            "Temperature Conversion Program\n",
            "Choose the conversion you want to perform:\n",
            "1. Celsius to Fahrenheit\n",
            "2. Fahrenheit to Celsius\n",
            "3. Celsius to Kelvin\n",
            "4. Kelvin to Celsius\n",
            "5. Fahrenheit to Kelvin\n",
            "6. Kelvin to Fahrenheit\n",
            "Enter your choice (1-6): 6\n",
            "Enter temperature in Kelvin: 78\n",
            "78.0 K is equal to -319.27°F\n"
          ]
        }
      ]
    }
  ]
}